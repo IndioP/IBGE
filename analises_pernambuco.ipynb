{
 "cells": [
  {
   "cell_type": "code",
   "execution_count": 68,
   "metadata": {},
   "outputs": [],
   "source": [
    "import pandas as pd"
   ]
  },
  {
   "cell_type": "code",
   "execution_count": 71,
   "metadata": {},
   "outputs": [],
   "source": [
    "df = pd.read_clipboard()"
   ]
  },
  {
   "cell_type": "code",
   "execution_count": 74,
   "metadata": {},
   "outputs": [],
   "source": [
    "df = df.drop(0)"
   ]
  },
  {
   "cell_type": "code",
   "execution_count": 86,
   "metadata": {},
   "outputs": [],
   "source": [
    "df = df.iloc[:,:2].set_index(\"MASCULINO\")#.T"
   ]
  },
  {
   "cell_type": "code",
   "execution_count": 87,
   "metadata": {},
   "outputs": [],
   "source": [
    "df.columns = [\"Size\"]"
   ]
  },
  {
   "cell_type": "code",
   "execution_count": 89,
   "metadata": {},
   "outputs": [
    {
     "data": {
      "text/plain": [
       "MASCULINO\n",
       "Menos de 1 ano de idade     6675\n",
       "1 a 4 anos de idade        27750\n",
       "5 a 9 anos                 37832\n",
       "10 a 14 anos de idade      42356\n",
       "15 a 19 anos               40749\n",
       "20 a 24 anos               40283\n",
       "25 a 29 anos               37900\n",
       "30 a 34 anos               34470\n",
       "35 a 39 anos               30154\n",
       "40 a 44 anos               27117\n",
       "45 a 49 anos               23386\n",
       "50 a 54 anos               19100\n",
       "55 a 59 anos               15274\n",
       "60 a 64 anos               12856\n",
       "65 a 69 anos                9559\n",
       "70 a 74 anos                7365\n",
       "75 a 79 anos                4605\n",
       "80 a 84 anos                3123\n",
       "85 a 89 anos                1634\n",
       "90 a 94 anos                 646\n",
       "95 a 99 anos                 187\n",
       "100 anos ou mais           38700\n",
       "Name: Size, dtype: int64"
      ]
     },
     "execution_count": 89,
     "metadata": {},
     "output_type": "execute_result"
    }
   ],
   "source": [
    "df[\"Size\"].map(lambda x:int(x*100) if '.000' not in str(x) else int(x))"
   ]
  },
  {
   "cell_type": "code",
   "execution_count": 96,
   "metadata": {},
   "outputs": [],
   "source": [
    "df2 = pd.read_clipboard()"
   ]
  },
  {
   "cell_type": "code",
   "execution_count": 97,
   "metadata": {},
   "outputs": [],
   "source": [
    "df2 = df2.set_index(\"FEMININO\").iloc[:,:1]"
   ]
  },
  {
   "cell_type": "code",
   "execution_count": 99,
   "metadata": {},
   "outputs": [],
   "source": [
    "df2.columns = [\"Size\"]"
   ]
  },
  {
   "cell_type": "code",
   "execution_count": 104,
   "metadata": {},
   "outputs": [],
   "source": [
    "df2 = df2.drop(\"Grupo de idade\")"
   ]
  },
  {
   "cell_type": "code",
   "execution_count": 105,
   "metadata": {},
   "outputs": [
    {
     "data": {
      "text/html": [
       "<div>\n",
       "<style scoped>\n",
       "    .dataframe tbody tr th:only-of-type {\n",
       "        vertical-align: middle;\n",
       "    }\n",
       "\n",
       "    .dataframe tbody tr th {\n",
       "        vertical-align: top;\n",
       "    }\n",
       "\n",
       "    .dataframe thead th {\n",
       "        text-align: right;\n",
       "    }\n",
       "</style>\n",
       "<table border=\"1\" class=\"dataframe\">\n",
       "  <thead>\n",
       "    <tr style=\"text-align: right;\">\n",
       "      <th></th>\n",
       "      <th>Size</th>\n",
       "    </tr>\n",
       "    <tr>\n",
       "      <th>FEMININO</th>\n",
       "      <th></th>\n",
       "    </tr>\n",
       "  </thead>\n",
       "  <tbody>\n",
       "    <tr>\n",
       "      <th>Menos de 1 ano de idade</th>\n",
       "      <td>64.528</td>\n",
       "    </tr>\n",
       "    <tr>\n",
       "      <th>1 a 4 anos de idade</th>\n",
       "      <td>268.115</td>\n",
       "    </tr>\n",
       "    <tr>\n",
       "      <th>5 a 9 anos</th>\n",
       "      <td>366.005</td>\n",
       "    </tr>\n",
       "    <tr>\n",
       "      <th>10 a 14 anos de idade</th>\n",
       "      <td>411.963</td>\n",
       "    </tr>\n",
       "    <tr>\n",
       "      <th>15 a 19 anos</th>\n",
       "      <td>406.100</td>\n",
       "    </tr>\n",
       "    <tr>\n",
       "      <th>20 a 24 anos</th>\n",
       "      <td>414.746</td>\n",
       "    </tr>\n",
       "    <tr>\n",
       "      <th>25 a 29 anos</th>\n",
       "      <td>400.641</td>\n",
       "    </tr>\n",
       "    <tr>\n",
       "      <th>30 a 34 anos</th>\n",
       "      <td>372.344</td>\n",
       "    </tr>\n",
       "    <tr>\n",
       "      <th>35 a 39 anos</th>\n",
       "      <td>333.661</td>\n",
       "    </tr>\n",
       "    <tr>\n",
       "      <th>40 a 44 anos</th>\n",
       "      <td>305.896</td>\n",
       "    </tr>\n",
       "    <tr>\n",
       "      <th>45 a 49 anos</th>\n",
       "      <td>268.313</td>\n",
       "    </tr>\n",
       "    <tr>\n",
       "      <th>50 a 54 anos</th>\n",
       "      <td>225.663</td>\n",
       "    </tr>\n",
       "    <tr>\n",
       "      <th>55 a 59 anos</th>\n",
       "      <td>190.010</td>\n",
       "    </tr>\n",
       "    <tr>\n",
       "      <th>60 a 64 anos</th>\n",
       "      <td>160.049</td>\n",
       "    </tr>\n",
       "    <tr>\n",
       "      <th>65 a 69 anos</th>\n",
       "      <td>124.092</td>\n",
       "    </tr>\n",
       "    <tr>\n",
       "      <th>70 a 74 anos</th>\n",
       "      <td>100.594</td>\n",
       "    </tr>\n",
       "    <tr>\n",
       "      <th>75 a 79 anos</th>\n",
       "      <td>66.426</td>\n",
       "    </tr>\n",
       "    <tr>\n",
       "      <th>80 a 84 anos</th>\n",
       "      <td>46.240</td>\n",
       "    </tr>\n",
       "    <tr>\n",
       "      <th>85 a 89 anos</th>\n",
       "      <td>24.574</td>\n",
       "    </tr>\n",
       "    <tr>\n",
       "      <th>90 a 94 anos</th>\n",
       "      <td>11.061</td>\n",
       "    </tr>\n",
       "    <tr>\n",
       "      <th>95 a 99 anos</th>\n",
       "      <td>3.534</td>\n",
       "    </tr>\n",
       "    <tr>\n",
       "      <th>100 anos ou mais</th>\n",
       "      <td>1.212</td>\n",
       "    </tr>\n",
       "  </tbody>\n",
       "</table>\n",
       "</div>"
      ],
      "text/plain": [
       "                            Size\n",
       "FEMININO                        \n",
       "Menos de 1 ano de idade   64.528\n",
       "1 a 4 anos de idade      268.115\n",
       "5 a 9 anos               366.005\n",
       "10 a 14 anos de idade    411.963\n",
       "15 a 19 anos             406.100\n",
       "20 a 24 anos             414.746\n",
       "25 a 29 anos             400.641\n",
       "30 a 34 anos             372.344\n",
       "35 a 39 anos             333.661\n",
       "40 a 44 anos             305.896\n",
       "45 a 49 anos             268.313\n",
       "50 a 54 anos             225.663\n",
       "55 a 59 anos             190.010\n",
       "60 a 64 anos             160.049\n",
       "65 a 69 anos             124.092\n",
       "70 a 74 anos             100.594\n",
       "75 a 79 anos              66.426\n",
       "80 a 84 anos              46.240\n",
       "85 a 89 anos              24.574\n",
       "90 a 94 anos              11.061\n",
       "95 a 99 anos               3.534\n",
       "100 anos ou mais           1.212"
      ]
     },
     "execution_count": 105,
     "metadata": {},
     "output_type": "execute_result"
    }
   ],
   "source": [
    "df2"
   ]
  },
  {
   "cell_type": "code",
   "execution_count": 130,
   "metadata": {},
   "outputs": [],
   "source": [
    "df_aux = pd.DataFrame()\n",
    "df_aux[\"male\"] = df[\"Size\"].map(lambda x:int(x*100) if '.000' not in str(x) else int(x))\n",
    "df_aux[\"female\"] = df2[\"Size\"]"
   ]
  },
  {
   "cell_type": "code",
   "execution_count": 131,
   "metadata": {},
   "outputs": [
    {
     "data": {
      "text/html": [
       "<div>\n",
       "<style scoped>\n",
       "    .dataframe tbody tr th:only-of-type {\n",
       "        vertical-align: middle;\n",
       "    }\n",
       "\n",
       "    .dataframe tbody tr th {\n",
       "        vertical-align: top;\n",
       "    }\n",
       "\n",
       "    .dataframe thead th {\n",
       "        text-align: right;\n",
       "    }\n",
       "</style>\n",
       "<table border=\"1\" class=\"dataframe\">\n",
       "  <thead>\n",
       "    <tr style=\"text-align: right;\">\n",
       "      <th></th>\n",
       "      <th>male</th>\n",
       "      <th>female</th>\n",
       "    </tr>\n",
       "    <tr>\n",
       "      <th>MASCULINO</th>\n",
       "      <th></th>\n",
       "      <th></th>\n",
       "    </tr>\n",
       "  </thead>\n",
       "  <tbody>\n",
       "    <tr>\n",
       "      <th>Menos de 1 ano de idade</th>\n",
       "      <td>6675</td>\n",
       "      <td>64.528</td>\n",
       "    </tr>\n",
       "    <tr>\n",
       "      <th>1 a 4 anos de idade</th>\n",
       "      <td>27750</td>\n",
       "      <td>268.115</td>\n",
       "    </tr>\n",
       "    <tr>\n",
       "      <th>5 a 9 anos</th>\n",
       "      <td>37832</td>\n",
       "      <td>366.005</td>\n",
       "    </tr>\n",
       "    <tr>\n",
       "      <th>10 a 14 anos de idade</th>\n",
       "      <td>42356</td>\n",
       "      <td>411.963</td>\n",
       "    </tr>\n",
       "    <tr>\n",
       "      <th>15 a 19 anos</th>\n",
       "      <td>40749</td>\n",
       "      <td>406.100</td>\n",
       "    </tr>\n",
       "    <tr>\n",
       "      <th>20 a 24 anos</th>\n",
       "      <td>40283</td>\n",
       "      <td>414.746</td>\n",
       "    </tr>\n",
       "    <tr>\n",
       "      <th>25 a 29 anos</th>\n",
       "      <td>37900</td>\n",
       "      <td>400.641</td>\n",
       "    </tr>\n",
       "    <tr>\n",
       "      <th>30 a 34 anos</th>\n",
       "      <td>34470</td>\n",
       "      <td>372.344</td>\n",
       "    </tr>\n",
       "    <tr>\n",
       "      <th>35 a 39 anos</th>\n",
       "      <td>30154</td>\n",
       "      <td>333.661</td>\n",
       "    </tr>\n",
       "    <tr>\n",
       "      <th>40 a 44 anos</th>\n",
       "      <td>27117</td>\n",
       "      <td>305.896</td>\n",
       "    </tr>\n",
       "    <tr>\n",
       "      <th>45 a 49 anos</th>\n",
       "      <td>23386</td>\n",
       "      <td>268.313</td>\n",
       "    </tr>\n",
       "    <tr>\n",
       "      <th>50 a 54 anos</th>\n",
       "      <td>19100</td>\n",
       "      <td>225.663</td>\n",
       "    </tr>\n",
       "    <tr>\n",
       "      <th>55 a 59 anos</th>\n",
       "      <td>15274</td>\n",
       "      <td>190.010</td>\n",
       "    </tr>\n",
       "    <tr>\n",
       "      <th>60 a 64 anos</th>\n",
       "      <td>12856</td>\n",
       "      <td>160.049</td>\n",
       "    </tr>\n",
       "    <tr>\n",
       "      <th>65 a 69 anos</th>\n",
       "      <td>9559</td>\n",
       "      <td>124.092</td>\n",
       "    </tr>\n",
       "    <tr>\n",
       "      <th>70 a 74 anos</th>\n",
       "      <td>7365</td>\n",
       "      <td>100.594</td>\n",
       "    </tr>\n",
       "    <tr>\n",
       "      <th>75 a 79 anos</th>\n",
       "      <td>4605</td>\n",
       "      <td>66.426</td>\n",
       "    </tr>\n",
       "    <tr>\n",
       "      <th>80 a 84 anos</th>\n",
       "      <td>3123</td>\n",
       "      <td>46.240</td>\n",
       "    </tr>\n",
       "    <tr>\n",
       "      <th>85 a 89 anos</th>\n",
       "      <td>1634</td>\n",
       "      <td>24.574</td>\n",
       "    </tr>\n",
       "    <tr>\n",
       "      <th>90 a 94 anos</th>\n",
       "      <td>646</td>\n",
       "      <td>11.061</td>\n",
       "    </tr>\n",
       "    <tr>\n",
       "      <th>95 a 99 anos</th>\n",
       "      <td>187</td>\n",
       "      <td>3.534</td>\n",
       "    </tr>\n",
       "    <tr>\n",
       "      <th>100 anos ou mais</th>\n",
       "      <td>38700</td>\n",
       "      <td>1.212</td>\n",
       "    </tr>\n",
       "  </tbody>\n",
       "</table>\n",
       "</div>"
      ],
      "text/plain": [
       "                          male   female\n",
       "MASCULINO                              \n",
       "Menos de 1 ano de idade   6675   64.528\n",
       "1 a 4 anos de idade      27750  268.115\n",
       "5 a 9 anos               37832  366.005\n",
       "10 a 14 anos de idade    42356  411.963\n",
       "15 a 19 anos             40749  406.100\n",
       "20 a 24 anos             40283  414.746\n",
       "25 a 29 anos             37900  400.641\n",
       "30 a 34 anos             34470  372.344\n",
       "35 a 39 anos             30154  333.661\n",
       "40 a 44 anos             27117  305.896\n",
       "45 a 49 anos             23386  268.313\n",
       "50 a 54 anos             19100  225.663\n",
       "55 a 59 anos             15274  190.010\n",
       "60 a 64 anos             12856  160.049\n",
       "65 a 69 anos              9559  124.092\n",
       "70 a 74 anos              7365  100.594\n",
       "75 a 79 anos              4605   66.426\n",
       "80 a 84 anos              3123   46.240\n",
       "85 a 89 anos              1634   24.574\n",
       "90 a 94 anos               646   11.061\n",
       "95 a 99 anos               187    3.534\n",
       "100 anos ou mais         38700    1.212"
      ]
     },
     "execution_count": 131,
     "metadata": {},
     "output_type": "execute_result"
    }
   ],
   "source": [
    "df_aux"
   ]
  },
  {
   "cell_type": "code",
   "execution_count": 132,
   "metadata": {},
   "outputs": [],
   "source": [
    "import seaborn as sns"
   ]
  },
  {
   "cell_type": "code",
   "execution_count": 133,
   "metadata": {},
   "outputs": [],
   "source": [
    "age = list(df_aux.index)\n",
    "age.reverse()"
   ]
  },
  {
   "cell_type": "code",
   "execution_count": 134,
   "metadata": {},
   "outputs": [],
   "source": [
    "df_aux[\"male\"]*=-1\n"
   ]
  },
  {
   "cell_type": "code",
   "execution_count": 138,
   "metadata": {},
   "outputs": [],
   "source": [
    "df_aux.index.name = \"age\""
   ]
  },
  {
   "cell_type": "code",
   "execution_count": 144,
   "metadata": {},
   "outputs": [
    {
     "data": {
      "text/plain": [
       "Text(0.5, 0, 'male - female')"
      ]
     },
     "execution_count": 144,
     "metadata": {},
     "output_type": "execute_result"
    },
    {
     "data": {
      "image/png": "[encoded data removed]",
      "text/plain": [
       "<Figure size 432x288 with 1 Axes>"
      ]
     },
     "metadata": {
      "needs_background": "light"
     },
     "output_type": "display_data"
    }
   ],
   "source": [
    "import matplotlib.pyplot as plt\n",
    "plt.title(\"piramide etaria pernambuco 2010\")\n",
    "ax1 = sns.barplot(x='male', y=df_aux.index, data=df_aux, order=age, palette=\"Blues\")\n",
    "ax2 = sns.barplot(x='female', y=df_aux.index, data=df_aux, order=age, palette=\"Greens\")\n",
    "plt.xlabel(\"male - female\")"
   ]
  },
  {
   "cell_type": "code",
   "execution_count": null,
   "metadata": {},
   "outputs": [],
   "source": []
  },
  {
   "cell_type": "code",
   "execution_count": null,
   "metadata": {},
   "outputs": [],
   "source": []
  }
 ],
 "metadata": {
  "kernelspec": {
   "display_name": "Python 3",
   "language": "python",
   "name": "python3"
  },
  "language_info": {
   "codemirror_mode": {
    "name": "ipython",
    "version": 3
   },
   "file_extension": ".py",
   "mimetype": "text/x-python",
   "name": "python",
   "nbconvert_exporter": "python",
   "pygments_lexer": "ipython3",
   "version": "3.8.10"
  },
  "orig_nbformat": 4,
  "vscode": {
   "interpreter": {
    "hash": "31f2aee4e71d21fbe5cf8b01ff0e069b9275f58929596ceb00d14d90e3e16cd6"
   }
  }
 },
 "nbformat": 4,
 "nbformat_minor": 2
}
